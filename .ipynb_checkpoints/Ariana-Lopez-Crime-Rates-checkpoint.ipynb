{
 "cells": [
  {
   "cell_type": "markdown",
   "metadata": {},
   "source": [
    "## Best Pittsburgh Neighborhood: Measured By Livability"
   ]
  },
  {
   "cell_type": "markdown",
   "metadata": {},
   "source": [
    "Hello! Our group decided to determine the best neighborhood in Pittsburgh by measuring the livability of each neighborhood in Pittsburgh. In this notebook, I will be looking at the crime rates of each neighborhood."
   ]
  },
  {
   "cell_type": "markdown",
   "metadata": {},
   "source": [
    "#### Why use crime rates to measure livability?"
   ]
  },
  {
   "cell_type": "markdown",
   "metadata": {},
   "source": [
    "Our group defined livability as \"the conditions which contribute to an increased quality of life for the people within a particular neighborhood\". With that definition, it is very easy to understand how crime rates can affect quality of life. The higher the crime rate, the lower the livability. The lower the crime rate, the higher the livibility."
   ]
  },
  {
   "cell_type": "markdown",
   "metadata": {},
   "source": [
    "#### The Data"
   ]
  },
  {
   "cell_type": "markdown",
   "metadata": {},
   "source": [
    "I used data from the SNAP Census 2010, specifically I used data from the Public Safety spreadsheet. You can find the SNAP Census 2010 on the Western Pennsylvania Regional Data Center website. I understand that data from 2010 is a bit old, but that was the most recent data I could find to match the metric."
   ]
  },
  {
   "cell_type": "code",
   "execution_count": 1,
   "metadata": {},
   "outputs": [],
   "source": [
    "import pandas as pd\n",
    "import geopandas"
   ]
  },
  {
   "cell_type": "markdown",
   "metadata": {},
   "source": [
    "Here I'm giving you a small look at the dataset. All this information is important to analyze, except for the Sector #, we don't need to use that. Now, lets see what neighborhoods we will be analyzing."
   ]
  },
  {
   "cell_type": "code",
   "execution_count": 2,
   "metadata": {},
   "outputs": [
    {
     "data": {
      "text/html": [
       "<div>\n",
       "<style scoped>\n",
       "    .dataframe tbody tr th:only-of-type {\n",
       "        vertical-align: middle;\n",
       "    }\n",
       "\n",
       "    .dataframe tbody tr th {\n",
       "        vertical-align: top;\n",
       "    }\n",
       "\n",
       "    .dataframe thead th {\n",
       "        text-align: right;\n",
       "    }\n",
       "</style>\n",
       "<table border=\"1\" class=\"dataframe\">\n",
       "  <thead>\n",
       "    <tr style=\"text-align: right;\">\n",
       "      <th></th>\n",
       "      <th>Neighborhood</th>\n",
       "      <th>Sector #</th>\n",
       "      <th>Population (2010)</th>\n",
       "      <th>Part 1 (Major Crime) Reports (2010)</th>\n",
       "      <th>Part 2 Reports (2010)</th>\n",
       "      <th>Other Police Reports (2010)</th>\n",
       "      <th>Part 1 Crime per 100 Persons (2010)</th>\n",
       "      <th>Part 2 Crime per 100 Persons (2010)</th>\n",
       "      <th>Murder (2010)</th>\n",
       "      <th>Rape (2010)</th>\n",
       "      <th>Robbery (2010)</th>\n",
       "      <th>Agr. Assault (2010)</th>\n",
       "      <th>Burglary (2010)</th>\n",
       "      <th>Auto Theft (2010)</th>\n",
       "      <th>Drug Violations (2010)</th>\n",
       "    </tr>\n",
       "  </thead>\n",
       "  <tbody>\n",
       "    <tr>\n",
       "      <th>0</th>\n",
       "      <td>Allegheny Center</td>\n",
       "      <td>3</td>\n",
       "      <td>933</td>\n",
       "      <td>71</td>\n",
       "      <td>141</td>\n",
       "      <td>46</td>\n",
       "      <td>7.6</td>\n",
       "      <td>15.1</td>\n",
       "      <td>0</td>\n",
       "      <td>2</td>\n",
       "      <td>9</td>\n",
       "      <td>5</td>\n",
       "      <td>8</td>\n",
       "      <td>5</td>\n",
       "      <td>31</td>\n",
       "    </tr>\n",
       "    <tr>\n",
       "      <th>1</th>\n",
       "      <td>Allegheny West</td>\n",
       "      <td>3</td>\n",
       "      <td>462</td>\n",
       "      <td>38</td>\n",
       "      <td>49</td>\n",
       "      <td>31</td>\n",
       "      <td>8.2</td>\n",
       "      <td>10.6</td>\n",
       "      <td>1</td>\n",
       "      <td>0</td>\n",
       "      <td>4</td>\n",
       "      <td>6</td>\n",
       "      <td>6</td>\n",
       "      <td>4</td>\n",
       "      <td>12</td>\n",
       "    </tr>\n",
       "    <tr>\n",
       "      <th>2</th>\n",
       "      <td>Allentown</td>\n",
       "      <td>6</td>\n",
       "      <td>2,500</td>\n",
       "      <td>159</td>\n",
       "      <td>252</td>\n",
       "      <td>160</td>\n",
       "      <td>6.4</td>\n",
       "      <td>10.1</td>\n",
       "      <td>0</td>\n",
       "      <td>2</td>\n",
       "      <td>15</td>\n",
       "      <td>23</td>\n",
       "      <td>48</td>\n",
       "      <td>11</td>\n",
       "      <td>66</td>\n",
       "    </tr>\n",
       "    <tr>\n",
       "      <th>3</th>\n",
       "      <td>Arlington</td>\n",
       "      <td>7</td>\n",
       "      <td>1,869</td>\n",
       "      <td>50</td>\n",
       "      <td>84</td>\n",
       "      <td>48</td>\n",
       "      <td>2.7</td>\n",
       "      <td>4.5</td>\n",
       "      <td>0</td>\n",
       "      <td>1</td>\n",
       "      <td>8</td>\n",
       "      <td>5</td>\n",
       "      <td>15</td>\n",
       "      <td>7</td>\n",
       "      <td>9</td>\n",
       "    </tr>\n",
       "    <tr>\n",
       "      <th>4</th>\n",
       "      <td>Arlington Heights</td>\n",
       "      <td>7</td>\n",
       "      <td>244</td>\n",
       "      <td>19</td>\n",
       "      <td>37</td>\n",
       "      <td>24</td>\n",
       "      <td>7.8</td>\n",
       "      <td>15.2</td>\n",
       "      <td>0</td>\n",
       "      <td>0</td>\n",
       "      <td>4</td>\n",
       "      <td>5</td>\n",
       "      <td>5</td>\n",
       "      <td>3</td>\n",
       "      <td>7</td>\n",
       "    </tr>\n",
       "    <tr>\n",
       "      <th>5</th>\n",
       "      <td>Banksville</td>\n",
       "      <td>5</td>\n",
       "      <td>4,144</td>\n",
       "      <td>62</td>\n",
       "      <td>81</td>\n",
       "      <td>61</td>\n",
       "      <td>1.5</td>\n",
       "      <td>2.0</td>\n",
       "      <td>0</td>\n",
       "      <td>0</td>\n",
       "      <td>2</td>\n",
       "      <td>5</td>\n",
       "      <td>9</td>\n",
       "      <td>5</td>\n",
       "      <td>7</td>\n",
       "    </tr>\n",
       "    <tr>\n",
       "      <th>6</th>\n",
       "      <td>Bedford Dwellings</td>\n",
       "      <td>15</td>\n",
       "      <td>1,202</td>\n",
       "      <td>42</td>\n",
       "      <td>80</td>\n",
       "      <td>38</td>\n",
       "      <td>3.5</td>\n",
       "      <td>6.7</td>\n",
       "      <td>0</td>\n",
       "      <td>0</td>\n",
       "      <td>7</td>\n",
       "      <td>8</td>\n",
       "      <td>8</td>\n",
       "      <td>2</td>\n",
       "      <td>25</td>\n",
       "    </tr>\n",
       "    <tr>\n",
       "      <th>7</th>\n",
       "      <td>Beechview</td>\n",
       "      <td>5</td>\n",
       "      <td>7,974</td>\n",
       "      <td>193</td>\n",
       "      <td>303</td>\n",
       "      <td>148</td>\n",
       "      <td>2.4</td>\n",
       "      <td>3.8</td>\n",
       "      <td>1</td>\n",
       "      <td>1</td>\n",
       "      <td>7</td>\n",
       "      <td>9</td>\n",
       "      <td>47</td>\n",
       "      <td>37</td>\n",
       "      <td>29</td>\n",
       "    </tr>\n",
       "    <tr>\n",
       "      <th>8</th>\n",
       "      <td>Beltzhoover</td>\n",
       "      <td>6</td>\n",
       "      <td>1,925</td>\n",
       "      <td>83</td>\n",
       "      <td>131</td>\n",
       "      <td>85</td>\n",
       "      <td>4.3</td>\n",
       "      <td>6.8</td>\n",
       "      <td>1</td>\n",
       "      <td>0</td>\n",
       "      <td>6</td>\n",
       "      <td>10</td>\n",
       "      <td>28</td>\n",
       "      <td>8</td>\n",
       "      <td>38</td>\n",
       "    </tr>\n",
       "    <tr>\n",
       "      <th>9</th>\n",
       "      <td>Bloomfield</td>\n",
       "      <td>12</td>\n",
       "      <td>8,442</td>\n",
       "      <td>453</td>\n",
       "      <td>371</td>\n",
       "      <td>296</td>\n",
       "      <td>5.4</td>\n",
       "      <td>4.4</td>\n",
       "      <td>0</td>\n",
       "      <td>3</td>\n",
       "      <td>45</td>\n",
       "      <td>20</td>\n",
       "      <td>70</td>\n",
       "      <td>36</td>\n",
       "      <td>42</td>\n",
       "    </tr>\n",
       "  </tbody>\n",
       "</table>\n",
       "</div>"
      ],
      "text/plain": [
       "        Neighborhood  Sector # Population (2010)  \\\n",
       "0   Allegheny Center         3               933   \n",
       "1     Allegheny West         3               462   \n",
       "2          Allentown         6             2,500   \n",
       "3          Arlington         7             1,869   \n",
       "4  Arlington Heights         7               244   \n",
       "5         Banksville         5             4,144   \n",
       "6  Bedford Dwellings        15             1,202   \n",
       "7          Beechview         5             7,974   \n",
       "8        Beltzhoover         6             1,925   \n",
       "9         Bloomfield        12             8,442   \n",
       "\n",
       "   Part 1 (Major Crime) Reports (2010)  Part 2 Reports (2010)  \\\n",
       "0                                   71                    141   \n",
       "1                                   38                     49   \n",
       "2                                  159                    252   \n",
       "3                                   50                     84   \n",
       "4                                   19                     37   \n",
       "5                                   62                     81   \n",
       "6                                   42                     80   \n",
       "7                                  193                    303   \n",
       "8                                   83                    131   \n",
       "9                                  453                    371   \n",
       "\n",
       "   Other Police Reports (2010)  Part 1 Crime per 100 Persons (2010)  \\\n",
       "0                           46                                  7.6   \n",
       "1                           31                                  8.2   \n",
       "2                          160                                  6.4   \n",
       "3                           48                                  2.7   \n",
       "4                           24                                  7.8   \n",
       "5                           61                                  1.5   \n",
       "6                           38                                  3.5   \n",
       "7                          148                                  2.4   \n",
       "8                           85                                  4.3   \n",
       "9                          296                                  5.4   \n",
       "\n",
       "   Part 2 Crime per 100 Persons (2010)  Murder (2010)  Rape (2010)  \\\n",
       "0                                 15.1              0            2   \n",
       "1                                 10.6              1            0   \n",
       "2                                 10.1              0            2   \n",
       "3                                  4.5              0            1   \n",
       "4                                 15.2              0            0   \n",
       "5                                  2.0              0            0   \n",
       "6                                  6.7              0            0   \n",
       "7                                  3.8              1            1   \n",
       "8                                  6.8              1            0   \n",
       "9                                  4.4              0            3   \n",
       "\n",
       "   Robbery (2010)  Agr. Assault (2010)  Burglary (2010)  Auto Theft (2010)  \\\n",
       "0               9                    5                8                  5   \n",
       "1               4                    6                6                  4   \n",
       "2              15                   23               48                 11   \n",
       "3               8                    5               15                  7   \n",
       "4               4                    5                5                  3   \n",
       "5               2                    5                9                  5   \n",
       "6               7                    8                8                  2   \n",
       "7               7                    9               47                 37   \n",
       "8               6                   10               28                  8   \n",
       "9              45                   20               70                 36   \n",
       "\n",
       "   Drug Violations (2010)  \n",
       "0                      31  \n",
       "1                      12  \n",
       "2                      66  \n",
       "3                       9  \n",
       "4                       7  \n",
       "5                       7  \n",
       "6                      25  \n",
       "7                      29  \n",
       "8                      38  \n",
       "9                      42  "
      ]
     },
     "execution_count": 2,
     "metadata": {},
     "output_type": "execute_result"
    }
   ],
   "source": [
    "d = pd.read_csv(\"arianalopez-dataset.csv\")\n",
    "d.head(10)"
   ]
  },
  {
   "cell_type": "markdown",
   "metadata": {},
   "source": [
    "##### As you can see, the dataset we are analyzing has alot of different information. Lets look at all of the neighborhoods we will be analyzing."
   ]
  },
  {
   "cell_type": "code",
   "execution_count": 3,
   "metadata": {},
   "outputs": [
    {
     "data": {
      "text/html": [
       "<div>\n",
       "<style scoped>\n",
       "    .dataframe tbody tr th:only-of-type {\n",
       "        vertical-align: middle;\n",
       "    }\n",
       "\n",
       "    .dataframe tbody tr th {\n",
       "        vertical-align: top;\n",
       "    }\n",
       "\n",
       "    .dataframe thead th {\n",
       "        text-align: right;\n",
       "    }\n",
       "</style>\n",
       "<table border=\"1\" class=\"dataframe\">\n",
       "  <thead>\n",
       "    <tr style=\"text-align: right;\">\n",
       "      <th></th>\n",
       "      <th>Neighborhood</th>\n",
       "    </tr>\n",
       "  </thead>\n",
       "  <tbody>\n",
       "    <tr>\n",
       "      <th>0</th>\n",
       "      <td>Allegheny Center</td>\n",
       "    </tr>\n",
       "    <tr>\n",
       "      <th>1</th>\n",
       "      <td>Allegheny West</td>\n",
       "    </tr>\n",
       "    <tr>\n",
       "      <th>2</th>\n",
       "      <td>Allentown</td>\n",
       "    </tr>\n",
       "    <tr>\n",
       "      <th>3</th>\n",
       "      <td>Arlington</td>\n",
       "    </tr>\n",
       "    <tr>\n",
       "      <th>4</th>\n",
       "      <td>Arlington Heights</td>\n",
       "    </tr>\n",
       "    <tr>\n",
       "      <th>...</th>\n",
       "      <td>...</td>\n",
       "    </tr>\n",
       "    <tr>\n",
       "      <th>85</th>\n",
       "      <td>Upper Lawrenceville</td>\n",
       "    </tr>\n",
       "    <tr>\n",
       "      <th>86</th>\n",
       "      <td>West End</td>\n",
       "    </tr>\n",
       "    <tr>\n",
       "      <th>87</th>\n",
       "      <td>West Oakland</td>\n",
       "    </tr>\n",
       "    <tr>\n",
       "      <th>88</th>\n",
       "      <td>Westwood</td>\n",
       "    </tr>\n",
       "    <tr>\n",
       "      <th>89</th>\n",
       "      <td>Windgap</td>\n",
       "    </tr>\n",
       "  </tbody>\n",
       "</table>\n",
       "<p>90 rows × 1 columns</p>\n",
       "</div>"
      ],
      "text/plain": [
       "           Neighborhood\n",
       "0      Allegheny Center\n",
       "1        Allegheny West\n",
       "2             Allentown\n",
       "3             Arlington\n",
       "4     Arlington Heights\n",
       "..                  ...\n",
       "85  Upper Lawrenceville\n",
       "86             West End\n",
       "87         West Oakland\n",
       "88             Westwood\n",
       "89              Windgap\n",
       "\n",
       "[90 rows x 1 columns]"
      ]
     },
     "execution_count": 3,
     "metadata": {},
     "output_type": "execute_result"
    }
   ],
   "source": [
    "data = d[[\"Neighborhood\"]]\n",
    "data.head(90)"
   ]
  },
  {
   "cell_type": "markdown",
   "metadata": {},
   "source": [
    "**Now that you know the 90 different neighborhoods that I  be analyzing, lets start by looking at the data for Major Crimes Reported per 100 People.**"
   ]
  },
  {
   "cell_type": "markdown",
   "metadata": {},
   "source": [
    "I decided to analyze this data specifically for a number of reasons. This data is found by analyzing the about of major crimes reported in 2010 and the population in 2010. If I only looked at the number of major crimes reported, I would have no knowledge of whether the number is good or bad, I would need to look at the population. If I looked at the population alone, I would get no valuable information for my metric. These reasons are why I will analyze the number of major crimes reported per 100 people."
   ]
  },
  {
   "cell_type": "code",
   "execution_count": 4,
   "metadata": {},
   "outputs": [
    {
     "data": {
      "text/html": [
       "<div>\n",
       "<style scoped>\n",
       "    .dataframe tbody tr th:only-of-type {\n",
       "        vertical-align: middle;\n",
       "    }\n",
       "\n",
       "    .dataframe tbody tr th {\n",
       "        vertical-align: top;\n",
       "    }\n",
       "\n",
       "    .dataframe thead th {\n",
       "        text-align: right;\n",
       "    }\n",
       "</style>\n",
       "<table border=\"1\" class=\"dataframe\">\n",
       "  <thead>\n",
       "    <tr style=\"text-align: right;\">\n",
       "      <th></th>\n",
       "      <th>Neighborhood</th>\n",
       "      <th>Part 1 Crime per 100 Persons (2010)</th>\n",
       "    </tr>\n",
       "  </thead>\n",
       "  <tbody>\n",
       "    <tr>\n",
       "      <th>0</th>\n",
       "      <td>Allegheny Center</td>\n",
       "      <td>7.6</td>\n",
       "    </tr>\n",
       "    <tr>\n",
       "      <th>1</th>\n",
       "      <td>Allegheny West</td>\n",
       "      <td>8.2</td>\n",
       "    </tr>\n",
       "    <tr>\n",
       "      <th>2</th>\n",
       "      <td>Allentown</td>\n",
       "      <td>6.4</td>\n",
       "    </tr>\n",
       "    <tr>\n",
       "      <th>3</th>\n",
       "      <td>Arlington</td>\n",
       "      <td>2.7</td>\n",
       "    </tr>\n",
       "    <tr>\n",
       "      <th>4</th>\n",
       "      <td>Arlington Heights</td>\n",
       "      <td>7.8</td>\n",
       "    </tr>\n",
       "    <tr>\n",
       "      <th>...</th>\n",
       "      <td>...</td>\n",
       "      <td>...</td>\n",
       "    </tr>\n",
       "    <tr>\n",
       "      <th>85</th>\n",
       "      <td>Upper Lawrenceville</td>\n",
       "      <td>3.4</td>\n",
       "    </tr>\n",
       "    <tr>\n",
       "      <th>86</th>\n",
       "      <td>West End</td>\n",
       "      <td>9.1</td>\n",
       "    </tr>\n",
       "    <tr>\n",
       "      <th>87</th>\n",
       "      <td>West Oakland</td>\n",
       "      <td>3.1</td>\n",
       "    </tr>\n",
       "    <tr>\n",
       "      <th>88</th>\n",
       "      <td>Westwood</td>\n",
       "      <td>1.9</td>\n",
       "    </tr>\n",
       "    <tr>\n",
       "      <th>89</th>\n",
       "      <td>Windgap</td>\n",
       "      <td>3.0</td>\n",
       "    </tr>\n",
       "  </tbody>\n",
       "</table>\n",
       "<p>90 rows × 2 columns</p>\n",
       "</div>"
      ],
      "text/plain": [
       "           Neighborhood  Part 1 Crime per 100 Persons (2010)\n",
       "0      Allegheny Center                                  7.6\n",
       "1        Allegheny West                                  8.2\n",
       "2             Allentown                                  6.4\n",
       "3             Arlington                                  2.7\n",
       "4     Arlington Heights                                  7.8\n",
       "..                  ...                                  ...\n",
       "85  Upper Lawrenceville                                  3.4\n",
       "86             West End                                  9.1\n",
       "87         West Oakland                                  3.1\n",
       "88             Westwood                                  1.9\n",
       "89              Windgap                                  3.0\n",
       "\n",
       "[90 rows x 2 columns]"
      ]
     },
     "execution_count": 4,
     "metadata": {},
     "output_type": "execute_result"
    }
   ],
   "source": [
    "firstDataSet = d[[\"Neighborhood\", \"Part 1 Crime per 100 Persons (2010)\"]]\n",
    "firstDataSet.head(90)"
   ]
  },
  {
   "cell_type": "markdown",
   "metadata": {},
   "source": [
    "**Now we see all of the neighborhoods and the number of Part 1 Crime per 100 Persons in that neighborhood. Lets sort that data.**"
   ]
  },
  {
   "cell_type": "markdown",
   "metadata": {},
   "source": [
    "In the beginning of my notebook, I mentioned that I would determine the most liveable neighborhood as a neighborhood with the lowest crime rates. That is why we are looking at the lowest values and the highest values. The lowest will determine which neighborhood is the most liveable."
   ]
  },
  {
   "cell_type": "code",
   "execution_count": 6,
   "metadata": {},
   "outputs": [
    {
     "data": {
      "text/html": [
       "<div>\n",
       "<style scoped>\n",
       "    .dataframe tbody tr th:only-of-type {\n",
       "        vertical-align: middle;\n",
       "    }\n",
       "\n",
       "    .dataframe tbody tr th {\n",
       "        vertical-align: top;\n",
       "    }\n",
       "\n",
       "    .dataframe thead th {\n",
       "        text-align: right;\n",
       "    }\n",
       "</style>\n",
       "<table border=\"1\" class=\"dataframe\">\n",
       "  <thead>\n",
       "    <tr style=\"text-align: right;\">\n",
       "      <th></th>\n",
       "      <th>Neighborhood</th>\n",
       "      <th>Part 1 Crime per 100 Persons (2010)</th>\n",
       "    </tr>\n",
       "  </thead>\n",
       "  <tbody>\n",
       "    <tr>\n",
       "      <th>31</th>\n",
       "      <td>Fairywood</td>\n",
       "      <td>0.3</td>\n",
       "    </tr>\n",
       "    <tr>\n",
       "      <th>54</th>\n",
       "      <td>New Homestead</td>\n",
       "      <td>0.7</td>\n",
       "    </tr>\n",
       "    <tr>\n",
       "      <th>45</th>\n",
       "      <td>Lincoln Place</td>\n",
       "      <td>1.0</td>\n",
       "    </tr>\n",
       "    <tr>\n",
       "      <th>80</th>\n",
       "      <td>Summer Hill</td>\n",
       "      <td>1.2</td>\n",
       "    </tr>\n",
       "    <tr>\n",
       "      <th>75</th>\n",
       "      <td>Squirrel Hill North</td>\n",
       "      <td>1.3</td>\n",
       "    </tr>\n",
       "    <tr>\n",
       "      <th>...</th>\n",
       "      <td>...</td>\n",
       "      <td>...</td>\n",
       "    </tr>\n",
       "    <tr>\n",
       "      <th>16</th>\n",
       "      <td>Central Business District</td>\n",
       "      <td>21.7</td>\n",
       "    </tr>\n",
       "    <tr>\n",
       "      <th>56</th>\n",
       "      <td>North Shore</td>\n",
       "      <td>23.8</td>\n",
       "    </tr>\n",
       "    <tr>\n",
       "      <th>79</th>\n",
       "      <td>Strip District</td>\n",
       "      <td>25.2</td>\n",
       "    </tr>\n",
       "    <tr>\n",
       "      <th>21</th>\n",
       "      <td>Chateau</td>\n",
       "      <td>145.5</td>\n",
       "    </tr>\n",
       "    <tr>\n",
       "      <th>70</th>\n",
       "      <td>South Shore</td>\n",
       "      <td>194.7</td>\n",
       "    </tr>\n",
       "  </tbody>\n",
       "</table>\n",
       "<p>90 rows × 2 columns</p>\n",
       "</div>"
      ],
      "text/plain": [
       "                 Neighborhood  Part 1 Crime per 100 Persons (2010)\n",
       "31                  Fairywood                                  0.3\n",
       "54              New Homestead                                  0.7\n",
       "45              Lincoln Place                                  1.0\n",
       "80                Summer Hill                                  1.2\n",
       "75        Squirrel Hill North                                  1.3\n",
       "..                        ...                                  ...\n",
       "16  Central Business District                                 21.7\n",
       "56                North Shore                                 23.8\n",
       "79             Strip District                                 25.2\n",
       "21                    Chateau                                145.5\n",
       "70                South Shore                                194.7\n",
       "\n",
       "[90 rows x 2 columns]"
      ]
     },
     "execution_count": 6,
     "metadata": {},
     "output_type": "execute_result"
    }
   ],
   "source": [
    "firstDataSet.sort_values(\"Part 1 Crime per 100 Persons (2010)\")"
   ]
  },
  {
   "cell_type": "markdown",
   "metadata": {},
   "source": [
    "Here, we can see that the following neighborhoods have the lowest Part 1 Crime per 100 Persons: Fairywood, New Homestead, Lincoln Place, Summer Hill, Squirrel Hill North"
   ]
  },
  {
   "cell_type": "markdown",
   "metadata": {},
   "source": [
    "The data also shows that the following neighborhoods have the highest value of Part 1 Crime per 100 Persons: Central Business District, North Shore, Strip District, Chataeu, South Shore"
   ]
  },
  {
   "cell_type": "markdown",
   "metadata": {},
   "source": [
    "##### **Now the difference in values may not seem like that much, lets take a look at some of this data on a pie chart.**"
   ]
  },
  {
   "cell_type": "code",
   "execution_count": 18,
   "metadata": {},
   "outputs": [
    {
     "data": {
      "text/plain": [
       "<matplotlib.legend.Legend at 0x7f443f8ab190>"
      ]
     },
     "execution_count": 18,
     "metadata": {},
     "output_type": "execute_result"
    },
    {
     "data": {
      "image/png": "[encoded data removed]",
      "text/plain": [
       "<Figure size 432x288 with 1 Axes>"
      ]
     },
     "metadata": {},
     "output_type": "display_data"
    }
   ],
   "source": [
    "dataframe = pd.DataFrame({'Neighborhood': ['Fairywood', 'New Homestead', 'Lincoln Place', 'Summer Hill', 'Squirrel Hill North', \n",
    "                                           'Central Business District'],\n",
    "                          'Part 1 Crime per 100 Persons (2010)': [0.3, 0.7, 1.0, 1.2, 1.3, 21.7]})\n",
    "                          \n",
    "dataframe.groupby(['Neighborhood']).sum().plot(kind='pie', y='Part 1 Crime per 100 Persons (2010)').legend(loc='center', bbox_to_anchor=(1.75, 0.5))"
   ]
  },
  {
   "cell_type": "markdown",
   "metadata": {},
   "source": [
    "Here, we are looking at the the top 5 neighborhoods with the lowest Part 1 Crime per 100 Persons data, and also the 5th highest neighborhood with the highest Part 1 Crime per 100 Persons data. I decided to show data from the Central Business district because even though the data was only about 20 numbers off, this pie chart truly shows how significant this data is. You can only imagine what it would look like is I compared the South Shore with the 5 neighborhoods with the lowest Part 1 Crime per 100 Persons data."
   ]
  },
  {
   "cell_type": "markdown",
   "metadata": {},
   "source": [
    "**Now that we know the top 5 neighborhoods with the lowest values of Part 1 Crime per 100 Persons, lets look into those neighborhoods more.**"
   ]
  },
  {
   "cell_type": "code",
   "execution_count": 12,
   "metadata": {},
   "outputs": [
    {
     "data": {
      "text/plain": [
       "Neighborhood                           Fairywood\n",
       "Sector #                                       4\n",
       "Population (2010)                          1,002\n",
       "Part 1 (Major Crime) Reports (2010)            3\n",
       "Part 2 Reports (2010)                          6\n",
       "Other Police Reports (2010)                    9\n",
       "Part 1 Crime per 100 Persons (2010)          0.3\n",
       "Part 2 Crime per 100 Persons (2010)          0.6\n",
       "Murder (2010)                                  0\n",
       "Rape (2010)                                    0\n",
       "Robbery (2010)                                 0\n",
       "Agr. Assault (2010)                            0\n",
       "Burglary (2010)                                1\n",
       "Auto Theft (2010)                              0\n",
       "Drug Violations (2010)                         0\n",
       "Name: 31, dtype: object"
      ]
     },
     "execution_count": 12,
     "metadata": {},
     "output_type": "execute_result"
    }
   ],
   "source": [
    "d.iloc[31]"
   ]
  },
  {
   "cell_type": "code",
   "execution_count": 13,
   "metadata": {},
   "outputs": [
    {
     "data": {
      "text/plain": [
       "Neighborhood                           New Homestead\n",
       "Sector #                                           8\n",
       "Population (2010)                                990\n",
       "Part 1 (Major Crime) Reports (2010)                7\n",
       "Part 2 Reports (2010)                              4\n",
       "Other Police Reports (2010)                        9\n",
       "Part 1 Crime per 100 Persons (2010)              0.7\n",
       "Part 2 Crime per 100 Persons (2010)              0.4\n",
       "Murder (2010)                                      0\n",
       "Rape (2010)                                        0\n",
       "Robbery (2010)                                     0\n",
       "Agr. Assault (2010)                                0\n",
       "Burglary (2010)                                    1\n",
       "Auto Theft (2010)                                  2\n",
       "Drug Violations (2010)                             1\n",
       "Name: 54, dtype: object"
      ]
     },
     "execution_count": 13,
     "metadata": {},
     "output_type": "execute_result"
    }
   ],
   "source": [
    "d.iloc[54]"
   ]
  },
  {
   "cell_type": "code",
   "execution_count": 14,
   "metadata": {},
   "outputs": [
    {
     "data": {
      "text/plain": [
       "Neighborhood                           Lincoln Place\n",
       "Sector #                                           8\n",
       "Population (2010)                              3,227\n",
       "Part 1 (Major Crime) Reports (2010)               32\n",
       "Part 2 Reports (2010)                             63\n",
       "Other Police Reports (2010)                       33\n",
       "Part 1 Crime per 100 Persons (2010)                1\n",
       "Part 2 Crime per 100 Persons (2010)                2\n",
       "Murder (2010)                                      0\n",
       "Rape (2010)                                        0\n",
       "Robbery (2010)                                     1\n",
       "Agr. Assault (2010)                                3\n",
       "Burglary (2010)                                   11\n",
       "Auto Theft (2010)                                  2\n",
       "Drug Violations (2010)                             0\n",
       "Name: 45, dtype: object"
      ]
     },
     "execution_count": 14,
     "metadata": {},
     "output_type": "execute_result"
    }
   ],
   "source": [
    "d.iloc[45]"
   ]
  },
  {
   "cell_type": "code",
   "execution_count": 15,
   "metadata": {},
   "outputs": [
    {
     "data": {
      "text/plain": [
       "Neighborhood                           Summer Hill\n",
       "Sector #                                         1\n",
       "Population (2010)                            1,051\n",
       "Part 1 (Major Crime) Reports (2010)             13\n",
       "Part 2 Reports (2010)                           22\n",
       "Other Police Reports (2010)                     13\n",
       "Part 1 Crime per 100 Persons (2010)            1.2\n",
       "Part 2 Crime per 100 Persons (2010)            2.1\n",
       "Murder (2010)                                    0\n",
       "Rape (2010)                                      0\n",
       "Robbery (2010)                                   0\n",
       "Agr. Assault (2010)                              1\n",
       "Burglary (2010)                                  2\n",
       "Auto Theft (2010)                                2\n",
       "Drug Violations (2010)                           1\n",
       "Name: 80, dtype: object"
      ]
     },
     "execution_count": 15,
     "metadata": {},
     "output_type": "execute_result"
    }
   ],
   "source": [
    "d.iloc[80]"
   ]
  },
  {
   "cell_type": "code",
   "execution_count": 16,
   "metadata": {},
   "outputs": [
    {
     "data": {
      "text/plain": [
       "Neighborhood                           Squirrel Hill North\n",
       "Sector #                                                10\n",
       "Population (2010)                                   11,363\n",
       "Part 1 (Major Crime) Reports (2010)                    148\n",
       "Part 2 Reports (2010)                                  110\n",
       "Other Police Reports (2010)                            120\n",
       "Part 1 Crime per 100 Persons (2010)                    1.3\n",
       "Part 2 Crime per 100 Persons (2010)                      1\n",
       "Murder (2010)                                            0\n",
       "Rape (2010)                                              0\n",
       "Robbery (2010)                                           4\n",
       "Agr. Assault (2010)                                      3\n",
       "Burglary (2010)                                         33\n",
       "Auto Theft (2010)                                       16\n",
       "Drug Violations (2010)                                  15\n",
       "Name: 75, dtype: object"
      ]
     },
     "execution_count": 16,
     "metadata": {},
     "output_type": "execute_result"
    }
   ],
   "source": [
    "d.iloc[75]"
   ]
  },
  {
   "cell_type": "markdown",
   "metadata": {},
   "source": [
    "**Woah! This is alot of information to look at. A bar graph would help us look at this information better. Let's make one.**"
   ]
  },
  {
   "cell_type": "code",
   "execution_count": 19,
   "metadata": {},
   "outputs": [
    {
     "data": {
      "text/plain": [
       "<matplotlib.axes._subplots.AxesSubplot at 0x7f8cc34d2160>"
      ]
     },
     "execution_count": 19,
     "metadata": {},
     "output_type": "execute_result"
    },
    {
     "data": {
      "image/png": "[encoded data removed]",
      "text/plain": [
       "<Figure size 432x288 with 1 Axes>"
      ]
     },
     "metadata": {
      "needs_background": "light"
     },
     "output_type": "display_data"
    },
    {
     "data": {
      "image/png": "[encoded data removed]",
      "text/plain": [
       "<Figure size 432x288 with 1 Axes>"
      ]
     },
     "metadata": {
      "needs_background": "light"
     },
     "output_type": "display_data"
    }
   ],
   "source": [
    "df = pd.DataFrame([('Fairywood', 0, 0, 1, 0, 0),\n",
    "                   ('New Homestead', 0, 0, 1, 2, 1),\n",
    "                   ('Summer Hill', 0, 1, 2, 2, 1)],\n",
    "                  columns=('Neighborhood', 'Robbery (2010)', 'Agr. Assault (2010)', 'Burglary (2010)', 'Auto Theft (2010)', 'Drug Violations (2010)')\n",
    "                 )\n",
    "\n",
    "df.plot.bar(x='Neighborhood', stacked=True, rot=0)\n",
    "\n",
    "df1=pd.DataFrame([ ('Squirrel Hill North', 4, 3, 33, 16, 15),\n",
    "                   ('Lincoln Place', 1, 3, 11, 2, 0)],\n",
    "                 columns=('Neighborhood', 'Robbery (2010)', 'Agr. Assault (2010)', 'Burglary (2010)', 'Auto Theft (2010)', 'Drug Violations (2010)')\n",
    "                 )\n",
    "df1.plot.bar(x='Neighborhood', stacked=True, rot=0)\n",
    "\n"
   ]
  },
  {
   "cell_type": "markdown",
   "metadata": {},
   "source": [
    "From this data, we can see that Fairywood has the lowest numbers when compared to the other neighborhoods. Squirrel Hill North has signicantly more burglaries, auto thefts, and drug violations when compared to the other neighborhoods."
   ]
  },
  {
   "cell_type": "markdown",
   "metadata": {},
   "source": [
    "## **Conclusion**"
   ]
  },
  {
   "cell_type": "markdown",
   "metadata": {},
   "source": [
    "After analyzing the data from the SNAP 2010 Census, I have determined that Fairywood is the most liveable neighborhood in Pittsburgh. I came to this concluion as Fairywood had zero reports of robberies/aggrivated assaults/auto thefts/drug violations, only one report of burglary, and the lowest number of Major Crimes Reported per 100 Persons."
   ]
  },
  {
   "cell_type": "markdown",
   "metadata": {},
   "source": [
    "Starting with the second most liveable neighborhood, I would rank the other neighborhoods as the following: Summer Hill, New Homestead, Lincoln Place, Squirrel Hill North"
   ]
  },
  {
   "cell_type": "code",
   "execution_count": null,
   "metadata": {},
   "outputs": [],
   "source": []
  }
 ],
 "metadata": {
  "kernelspec": {
   "display_name": "Python 3",
   "language": "python",
   "name": "python3"
  },
  "language_info": {
   "codemirror_mode": {
    "name": "ipython",
    "version": 3
   },
   "file_extension": ".py",
   "mimetype": "text/x-python",
   "name": "python",
   "nbconvert_exporter": "python",
   "pygments_lexer": "ipython3",
   "version": "3.8.3"
  }
 },
 "nbformat": 4,
 "nbformat_minor": 4
}
